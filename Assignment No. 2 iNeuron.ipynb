{
 "cells": [
  {
   "cell_type": "markdown",
   "id": "77e65255",
   "metadata": {},
   "source": [
    "# Assignment No 2"
   ]
  },
  {
   "cell_type": "markdown",
   "id": "2019ded0",
   "metadata": {},
   "source": [
    "#### Q.1) What are the two values of the Boolean data type? How do you write them?"
   ]
  },
  {
   "cell_type": "markdown",
   "id": "7e22cfeb",
   "metadata": {},
   "source": [
    "#### Ans\n",
    "The two values of the Boolean data type are true and false. Zero(0) is considered as a false and 1 is considered as a True."
   ]
  },
  {
   "cell_type": "markdown",
   "id": "1e319ea4",
   "metadata": {},
   "source": [
    "#### Q.2) What are the three different types of Boolean operators?"
   ]
  },
  {
   "cell_type": "markdown",
   "id": "352b8d0b",
   "metadata": {},
   "source": [
    "#### Ans\n",
    "The three different types of Boolean operators are AND, OR, NOT."
   ]
  },
  {
   "cell_type": "markdown",
   "id": "4c092f7e",
   "metadata": {},
   "source": [
    "#### Q.3) Make a list of each Boolean operator's truth tables (i.e. every possible combination of Boolean values for the operator and what it evaluate )."
   ]
  },
  {
   "cell_type": "markdown",
   "id": "75828af4",
   "metadata": {},
   "source": [
    "#### Ans\n",
    "##### AND ( Multiplication )\n",
    "A    B   Q\n",
    "\n",
    "0\t 0\t 0      \n",
    "\n",
    "0\t 1\t 0\n",
    "\n",
    "1\t 0\t 0\n",
    "\n",
    "1\t 1\t 1\n",
    "\n",
    " Q = A*B\n",
    " where 0 is false and 1 is true\n",
    "\n",
    "\n",
    "##### OR  (Addition)\n",
    "A    B    Q  \n",
    "\n",
    "0\t 0\t  0  \n",
    "\n",
    "0\t 1\t  1\n",
    "\n",
    "1\t 0\t  1\n",
    "\n",
    "1\t 1\t  1\n",
    "\n",
    "Q = A+B\n",
    " where 0 is false and 1 is true\n",
    "\n",
    "##### NOT \n",
    "A     Q\n",
    "\n",
    "0\t  1          where 0 is false and 1 is true\n",
    "\n",
    "1\t  0"
   ]
  },
  {
   "cell_type": "markdown",
   "id": "3be9f015",
   "metadata": {},
   "source": [
    "#### Q.4) . What are the values of the following expressions?\n",
    "#### (5 > 4) and (3 == 5)\n",
    "#### not (5 > 4)\n",
    "#### (5 > 4) or (3 == 5)\n",
    "#### not ((5 > 4) or (3 == 5))\n",
    "#### (True and True) and (True == False)\n",
    "#### (not False) or (not True)\n"
   ]
  },
  {
   "cell_type": "code",
   "execution_count": 1,
   "id": "8489d5f8",
   "metadata": {},
   "outputs": [
    {
     "data": {
      "text/plain": [
       "False"
      ]
     },
     "execution_count": 1,
     "metadata": {},
     "output_type": "execute_result"
    }
   ],
   "source": [
    "(5 > 4) and (3 == 5)"
   ]
  },
  {
   "cell_type": "code",
   "execution_count": 2,
   "id": "b2825a4e",
   "metadata": {},
   "outputs": [
    {
     "data": {
      "text/plain": [
       "False"
      ]
     },
     "execution_count": 2,
     "metadata": {},
     "output_type": "execute_result"
    }
   ],
   "source": [
    "not (5 > 4)"
   ]
  },
  {
   "cell_type": "code",
   "execution_count": 3,
   "id": "9abb6398",
   "metadata": {},
   "outputs": [
    {
     "data": {
      "text/plain": [
       "True"
      ]
     },
     "execution_count": 3,
     "metadata": {},
     "output_type": "execute_result"
    }
   ],
   "source": [
    "(5 > 4) or (3 == 5)"
   ]
  },
  {
   "cell_type": "code",
   "execution_count": 4,
   "id": "2d8c4643",
   "metadata": {},
   "outputs": [
    {
     "data": {
      "text/plain": [
       "False"
      ]
     },
     "execution_count": 4,
     "metadata": {},
     "output_type": "execute_result"
    }
   ],
   "source": [
    "not ((5 > 4) or (3 == 5))"
   ]
  },
  {
   "cell_type": "code",
   "execution_count": 5,
   "id": "61faa9de",
   "metadata": {},
   "outputs": [
    {
     "data": {
      "text/plain": [
       "False"
      ]
     },
     "execution_count": 5,
     "metadata": {},
     "output_type": "execute_result"
    }
   ],
   "source": [
    "(True and True) and (True == False)"
   ]
  },
  {
   "cell_type": "code",
   "execution_count": 6,
   "id": "2d51d257",
   "metadata": {},
   "outputs": [
    {
     "data": {
      "text/plain": [
       "True"
      ]
     },
     "execution_count": 6,
     "metadata": {},
     "output_type": "execute_result"
    }
   ],
   "source": [
    "(not False) or (not True)"
   ]
  },
  {
   "cell_type": "markdown",
   "id": "7f6e1892",
   "metadata": {},
   "source": [
    "#### Q.5) What are the six comparison operators?"
   ]
  },
  {
   "cell_type": "markdown",
   "id": "48f1fe3b",
   "metadata": {},
   "source": [
    "#### Ans\n",
    "less than ( < )\n",
    "\n",
    "less than or equal to ( <= )\n",
    "\n",
    "greater than ( > )\n",
    "\n",
    "greater than or equal to ( >= )\n",
    "\n",
    "equal to ( == )\n",
    "\n",
    "not equal to ( != )"
   ]
  },
  {
   "cell_type": "markdown",
   "id": "c058522d",
   "metadata": {},
   "source": [
    "#### Q.6) . How do you tell the difference between the equal to and assignment operators?Describe a condition and when you would use one."
   ]
  },
  {
   "cell_type": "markdown",
   "id": "92ac8d31",
   "metadata": {},
   "source": [
    "#### Ans \n",
    "equal to is given by ==\n",
    "\n",
    "assignment operator is given by =\n",
    "\n",
    "equal to operator checks whether the two given operands are equal or not.\n",
    "assignment operator is used to assign the value.\n"
   ]
  },
  {
   "cell_type": "markdown",
   "id": "43f11044",
   "metadata": {},
   "source": [
    "#### Q .7) Identify the three blocks in this code:\n",
    "#### spam = 0\n",
    "#### if spam == 10:\n",
    "#### print('eggs')\n",
    "#### if spam > 5:\n",
    "#### print('bacon')\n",
    "#### else:\n",
    "#### print('ham')\n",
    "#### print('spam')\n",
    "#### print('spam')\n",
    "\n"
   ]
  },
  {
   "cell_type": "markdown",
   "id": "12569d4e",
   "metadata": {},
   "source": [
    "#### Ans\n",
    "The three blocks are everything inside the if statement and the lines print('bacon') and print('ham').\n",
    "ham spam spam"
   ]
  },
  {
   "cell_type": "markdown",
   "id": "64bc6729",
   "metadata": {},
   "source": [
    "#### Q.8) Write code that prints Hello if 1 is stored in spam, prints Howdy if 2 is stored in spam, and prints Greetings! if anything else is stored in spam."
   ]
  },
  {
   "cell_type": "code",
   "execution_count": 8,
   "id": "0f3a8a31",
   "metadata": {},
   "outputs": [
    {
     "name": "stdout",
     "output_type": "stream",
     "text": [
      " Input no.1\n",
      "Hello\n"
     ]
    }
   ],
   "source": [
    "spam = int(input(\" Input no.\"))\n",
    "if spam == 1:\n",
    "    print(\"Hello\")\n",
    "elif spam == 2:\n",
    "    print(\"Howdy\")\n",
    "else :\n",
    "    print(\"Greetings\")\n"
   ]
  },
  {
   "cell_type": "markdown",
   "id": "ed4a7d92",
   "metadata": {},
   "source": [
    "#### Q.9) If your programme is stuck in an endless loop, what keys you’ll press?"
   ]
  },
  {
   "cell_type": "markdown",
   "id": "30316ffe",
   "metadata": {},
   "source": [
    "#### Ans\n",
    "If programme is stuck in an endless loop, I will press CTRL + C keys "
   ]
  },
  {
   "cell_type": "markdown",
   "id": "af9dcbf7",
   "metadata": {},
   "source": [
    "#### Q.10) How can you tell the difference between break and continue?"
   ]
  },
  {
   "cell_type": "markdown",
   "id": "74bef8bf",
   "metadata": {},
   "source": [
    "#### Ans\n",
    "break statement is used to exit from the loop.\n",
    "continue statement is used to continue the iterations of the loop. "
   ]
  },
  {
   "cell_type": "code",
   "execution_count": 17,
   "id": "fb9660b4",
   "metadata": {},
   "outputs": [
    {
     "name": "stdout",
     "output_type": "stream",
     "text": [
      "0\n",
      "1\n",
      "2\n",
      "3\n",
      "4\n",
      "5\n",
      "6\n",
      "7\n",
      "8\n",
      "9\n",
      "10\n",
      "11\n"
     ]
    }
   ],
   "source": [
    "for i in range(20):\n",
    "    if(i==12):\n",
    "        break\n",
    "    print(i)"
   ]
  },
  {
   "cell_type": "code",
   "execution_count": 19,
   "id": "4b639572",
   "metadata": {},
   "outputs": [
    {
     "name": "stdout",
     "output_type": "stream",
     "text": [
      "0\n",
      "1\n",
      "2\n",
      "3\n",
      "4\n",
      "5\n",
      "6\n",
      "7\n",
      "8\n",
      "9\n",
      "10\n",
      "11\n",
      "13\n",
      "14\n",
      "15\n",
      "16\n",
      "17\n",
      "18\n",
      "19\n"
     ]
    }
   ],
   "source": [
    "for i in range(20):\n",
    "    if(i==12):\n",
    "        continue\n",
    "    print(i)\n",
    "    "
   ]
  },
  {
   "cell_type": "markdown",
   "id": "72c25cc4",
   "metadata": {},
   "source": [
    "#### Q.11) In a for loop, what is the difference between range(10), range(0, 10), and range(0, 10, 1)?"
   ]
  },
  {
   "cell_type": "markdown",
   "id": "647c2df0",
   "metadata": {},
   "source": [
    "#### Ans\n"
   ]
  },
  {
   "cell_type": "code",
   "execution_count": 7,
   "id": "1285870a",
   "metadata": {},
   "outputs": [
    {
     "name": "stdout",
     "output_type": "stream",
     "text": [
      "0\n",
      "1\n",
      "2\n",
      "3\n",
      "4\n",
      "5\n",
      "6\n",
      "7\n",
      "8\n",
      "9\n"
     ]
    }
   ],
   "source": [
    "for i in range(10):\n",
    "    print(i)"
   ]
  },
  {
   "cell_type": "code",
   "execution_count": 8,
   "id": "f03604e1",
   "metadata": {},
   "outputs": [
    {
     "name": "stdout",
     "output_type": "stream",
     "text": [
      "0\n",
      "1\n",
      "2\n",
      "3\n",
      "4\n",
      "5\n",
      "6\n",
      "7\n",
      "8\n",
      "9\n"
     ]
    }
   ],
   "source": [
    "for i in range(0,10):\n",
    "    print(i)"
   ]
  },
  {
   "cell_type": "code",
   "execution_count": 10,
   "id": "c922e3cb",
   "metadata": {},
   "outputs": [
    {
     "name": "stdout",
     "output_type": "stream",
     "text": [
      "0\n",
      "1\n",
      "2\n",
      "3\n",
      "4\n",
      "5\n",
      "6\n",
      "7\n",
      "8\n",
      "9\n"
     ]
    }
   ],
   "source": [
    "for i in range(0,10,1):\n",
    "    print(i)"
   ]
  },
  {
   "cell_type": "markdown",
   "id": "4d7cae2e",
   "metadata": {},
   "source": [
    "Output of all the about loop is same. \n",
    "range(10) only tells upper limit. It does not tells the lower limit and jump size.but indirectly lower limit is zero and jump size is 1.\n",
    "range(0,10) tells lower and upper limit. It does not tells jump size.but indirectly jump size is 1.\n",
    "range(0,10,1) tells lower limit, upper limit and jump size.\n"
   ]
  },
  {
   "cell_type": "markdown",
   "id": "b6fcb278",
   "metadata": {},
   "source": [
    "#### Q.12) Write a short program that prints the numbers 1 to 10 using a for loop. Then write an equivalent program that prints the numbers 1 to 10 using a while loop."
   ]
  },
  {
   "cell_type": "markdown",
   "id": "13eccd72",
   "metadata": {},
   "source": [
    "#### Ans\n"
   ]
  },
  {
   "cell_type": "code",
   "execution_count": 15,
   "id": "663a8ea4",
   "metadata": {},
   "outputs": [
    {
     "name": "stdout",
     "output_type": "stream",
     "text": [
      "1\n",
      "2\n",
      "3\n",
      "4\n",
      "5\n",
      "6\n",
      "7\n",
      "8\n",
      "9\n",
      "10\n"
     ]
    }
   ],
   "source": [
    "for i in range(1,11,1):\n",
    "    print(i)"
   ]
  },
  {
   "cell_type": "code",
   "execution_count": 1,
   "id": "0a219f48",
   "metadata": {},
   "outputs": [
    {
     "name": "stdout",
     "output_type": "stream",
     "text": [
      "1\n",
      "2\n",
      "3\n",
      "4\n",
      "5\n",
      "6\n",
      "7\n",
      "8\n",
      "9\n",
      "10\n"
     ]
    }
   ],
   "source": [
    "a = 1\n",
    "b = 10\n",
    "while a <= b:\n",
    "    print(a)\n",
    "    a = a+1 \n",
    "    "
   ]
  },
  {
   "cell_type": "markdown",
   "id": "1d75f6f6",
   "metadata": {},
   "source": [
    "#### Q.13)  If you had a function named bacon() inside a module named spam, how would you call it after importing spam?"
   ]
  },
  {
   "cell_type": "markdown",
   "id": "a799514a",
   "metadata": {},
   "source": [
    "#### Ans"
   ]
  },
  {
   "cell_type": "markdown",
   "id": "5e0e8875",
   "metadata": {},
   "source": [
    "spam.bacon()    "
   ]
  },
  {
   "cell_type": "code",
   "execution_count": null,
   "id": "c278ddd0",
   "metadata": {},
   "outputs": [],
   "source": []
  }
 ],
 "metadata": {
  "kernelspec": {
   "display_name": "Python 3 (ipykernel)",
   "language": "python",
   "name": "python3"
  },
  "language_info": {
   "codemirror_mode": {
    "name": "ipython",
    "version": 3
   },
   "file_extension": ".py",
   "mimetype": "text/x-python",
   "name": "python",
   "nbconvert_exporter": "python",
   "pygments_lexer": "ipython3",
   "version": "3.9.7"
  }
 },
 "nbformat": 4,
 "nbformat_minor": 5
}
