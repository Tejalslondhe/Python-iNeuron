{
 "cells": [
  {
   "cell_type": "markdown",
   "id": "77f85892",
   "metadata": {},
   "source": [
    "# Assignment Answer 1"
   ]
  },
  {
   "cell_type": "markdown",
   "id": "2b1c5a48",
   "metadata": {},
   "source": [
    "#### Q.1) In the below elements which of them are values or an expression? eg:- values can be integer or string and expressions will be mathematical operators.\n",
    "#### * \n",
    "#### 'hello'\n",
    "#### -87.8\n",
    "#### - \n",
    "#### / \n",
    "#### +\t\n",
    "#### 6 \n",
    "\n"
   ]
  },
  {
   "cell_type": "markdown",
   "id": "1755b9b8",
   "metadata": {},
   "source": [
    "### Ans\n",
    "From the above values are \"hello\",  -87.8, 6 and \n",
    "Expressions are * - / +"
   ]
  },
  {
   "cell_type": "markdown",
   "id": "350ece06",
   "metadata": {},
   "source": [
    "#### Q.2) What is the difference between string and variable?"
   ]
  },
  {
   "cell_type": "markdown",
   "id": "1fbadff8",
   "metadata": {},
   "source": [
    "#### Ans\n",
    "String is the word. It is the type of data or information.  \n",
    "Variable is the place where we can store the information or any data.e.g, We can store integers, floats, booleans, strings in the variable.\n"
   ]
  },
  {
   "cell_type": "markdown",
   "id": "9cf65e9f",
   "metadata": {},
   "source": [
    "#### Q.3) 3. Describe three different data types."
   ]
  },
  {
   "cell_type": "markdown",
   "id": "52726e1e",
   "metadata": {},
   "source": [
    "#### Ans\n",
    "There are so many data type such as integer, float, string, booleans, etc.\n",
    "1) Integers = Integers are whole numbers. e.g. 99,7,100\n",
    "\n",
    "2) Float = Float are the number with decimal points e.g. 5.252,9898.15,1.0\n",
    "\n",
    "3) String = String is the word e.g. \"Tejal\", \"I have a pen\"\n",
    "\n"
   ]
  },
  {
   "cell_type": "markdown",
   "id": "6a62f204",
   "metadata": {},
   "source": [
    "#### Q. 4) What is an expression made up of? What do all expressions do?"
   ]
  },
  {
   "cell_type": "markdown",
   "id": "d7780656",
   "metadata": {},
   "source": [
    "#### Ans\n",
    "Expression is made up of values,variables, operators, constants.\n",
    "Expressions are used to represent the values. It is used to specify information which you want to see. Also expression evaluates to a single value."
   ]
  },
  {
   "cell_type": "markdown",
   "id": "1124dd24",
   "metadata": {},
   "source": [
    "#### Q.5) This assignment statements, like spam = 10. What is the difference between an expression and a statement?"
   ]
  },
  {
   "cell_type": "markdown",
   "id": "0951d56d",
   "metadata": {},
   "source": [
    "#### Ans\n",
    "In expression there is a combination of variables, integers, constants,operators.\n",
    "Statement is simply a command. It does not return anything."
   ]
  },
  {
   "cell_type": "markdown",
   "id": "088dd35d",
   "metadata": {},
   "source": [
    "#### Q.6) After running the following code, what does the variable bacon contain?\n",
    "#### bacon = 22\n",
    "#### bacon + 1\n"
   ]
  },
  {
   "cell_type": "markdown",
   "id": "d518ce9b",
   "metadata": {},
   "source": [
    "#### Ans \n"
   ]
  },
  {
   "cell_type": "code",
   "execution_count": 1,
   "id": "d629b7ac",
   "metadata": {},
   "outputs": [
    {
     "data": {
      "text/plain": [
       "23"
      ]
     },
     "execution_count": 1,
     "metadata": {},
     "output_type": "execute_result"
    }
   ],
   "source": [
    "bacon = 22\n",
    "bacon + 1"
   ]
  },
  {
   "cell_type": "markdown",
   "id": "a0732eac",
   "metadata": {},
   "source": [
    "The variable bacon contain 23."
   ]
  },
  {
   "cell_type": "markdown",
   "id": "aca86c5b",
   "metadata": {},
   "source": [
    "#### Q.7) What should the values of the following two terms be?\n",
    "#### 'spam' + 'spamspam'\n",
    "#### 'spam' * 3\n"
   ]
  },
  {
   "cell_type": "markdown",
   "id": "5189c909",
   "metadata": {},
   "source": [
    "#### Ans \n"
   ]
  },
  {
   "cell_type": "code",
   "execution_count": 2,
   "id": "56d453a3",
   "metadata": {},
   "outputs": [
    {
     "data": {
      "text/plain": [
       "'spamspamspam'"
      ]
     },
     "execution_count": 2,
     "metadata": {},
     "output_type": "execute_result"
    }
   ],
   "source": [
    "'spam' + 'spamspam'\n",
    "'spam' * 3"
   ]
  },
  {
   "cell_type": "markdown",
   "id": "ae899cd0",
   "metadata": {},
   "source": [
    "#### Q.8) Why is eggs a valid variable name while 100 is invalid?"
   ]
  },
  {
   "cell_type": "markdown",
   "id": "da596a72",
   "metadata": {},
   "source": [
    "#### Ans\n",
    "eggs a valid variable name while 100 is invalid because there are some rules to write variable names. In which there is a rule that variable names cannot begin with number.\n"
   ]
  },
  {
   "cell_type": "markdown",
   "id": "3d2bcb49",
   "metadata": {},
   "source": [
    "#### Q.9) What three functions can be used to get the integer, floating-point number, or string version of a value?"
   ]
  },
  {
   "cell_type": "markdown",
   "id": "c4474a40",
   "metadata": {},
   "source": [
    "#### Ans\n",
    "Three functions which are used to get the integer, floating-point number, or string version of a value are int, float, str resp."
   ]
  },
  {
   "cell_type": "markdown",
   "id": "5dac140c",
   "metadata": {},
   "source": [
    "#### Q.10) Why does this expression cause an error? How can you fix it?\n",
    "#### 'I have eaten ' + 99 + ' burritos.'\n"
   ]
  },
  {
   "cell_type": "markdown",
   "id": "7d3c85cf",
   "metadata": {},
   "source": [
    "#### Ans\n"
   ]
  },
  {
   "cell_type": "code",
   "execution_count": 4,
   "id": "30561a8d",
   "metadata": {},
   "outputs": [
    {
     "ename": "TypeError",
     "evalue": "can only concatenate str (not \"int\") to str",
     "output_type": "error",
     "traceback": [
      "\u001b[1;31m---------------------------------------------------------------------------\u001b[0m",
      "\u001b[1;31mTypeError\u001b[0m                                 Traceback (most recent call last)",
      "\u001b[1;32m~\\AppData\\Local\\Temp/ipykernel_30944/1774935878.py\u001b[0m in \u001b[0;36m<module>\u001b[1;34m\u001b[0m\n\u001b[1;32m----> 1\u001b[1;33m \u001b[1;34m'I have eaten '\u001b[0m \u001b[1;33m+\u001b[0m \u001b[1;36m99\u001b[0m \u001b[1;33m+\u001b[0m \u001b[1;34m' burritos.'\u001b[0m\u001b[1;33m\u001b[0m\u001b[1;33m\u001b[0m\u001b[0m\n\u001b[0m",
      "\u001b[1;31mTypeError\u001b[0m: can only concatenate str (not \"int\") to str"
     ]
    }
   ],
   "source": [
    "'I have eaten ' + 99 + ' burritos.'"
   ]
  },
  {
   "cell_type": "markdown",
   "id": "6420fdc9",
   "metadata": {},
   "source": [
    "This expression gives us error because we can't add/concatenate string and integer."
   ]
  },
  {
   "cell_type": "code",
   "execution_count": null,
   "id": "e5c1e3b8",
   "metadata": {},
   "outputs": [],
   "source": []
  }
 ],
 "metadata": {
  "kernelspec": {
   "display_name": "Python 3 (ipykernel)",
   "language": "python",
   "name": "python3"
  },
  "language_info": {
   "codemirror_mode": {
    "name": "ipython",
    "version": 3
   },
   "file_extension": ".py",
   "mimetype": "text/x-python",
   "name": "python",
   "nbconvert_exporter": "python",
   "pygments_lexer": "ipython3",
   "version": "3.9.7"
  }
 },
 "nbformat": 4,
 "nbformat_minor": 5
}
